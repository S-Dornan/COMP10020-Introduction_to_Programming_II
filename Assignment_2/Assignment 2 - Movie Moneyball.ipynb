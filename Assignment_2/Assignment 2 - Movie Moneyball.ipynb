{
 "cells": [
  {
   "cell_type": "markdown",
   "metadata": {},
   "source": [
    "# COMP 10020 Introduction to Programming 2\n",
    "## Assignment 2 - Movie Moneyball"
   ]
  },
  {
   "cell_type": "markdown",
   "metadata": {},
   "source": [
    "The rise of popularity of **data science** has led to data science techniques being applied in some unexpected places, and to the release of some very interesting datasets. There are very few areas in which data science techniques are not making a difference.\n",
    "\n",
    "One area where data is driving decision making is the movie business. Data is being used to understand the performance of movies and even make decisions about what movies to make. The goal of this assignment is to use data about movie releases from 1916 to 2017 to answer a series of questions. "
   ]
  },
  {
   "cell_type": "markdown",
   "metadata": {},
   "source": [
    "### Import Useful Packages\n",
    "Import useful packages for data science"
   ]
  },
  {
   "cell_type": "code",
   "execution_count": null,
   "metadata": {},
   "outputs": [],
   "source": [
    "import pandas as pd\n",
    "import numpy as np\n",
    "import scipy\n",
    "import matplotlib.pyplot as plt\n",
    "%matplotlib inline  \n",
    "import seaborn as sns"
   ]
  },
  {
   "cell_type": "markdown",
   "metadata": {},
   "source": [
    "### Question 1: Import Data"
   ]
  },
  {
   "cell_type": "markdown",
   "metadata": {},
   "source": [
    "Details of a large collection of movies released between 1916 and 2017 are contained in the file **movies.csv** and **casts.csv**. Each row within **movies.csv** describes a movie, using the following fields:\n",
    "\n",
    "* **id**: A unique ID of the movie\n",
    "* **title**: The title of the movie\n",
    "* **tagline**: The tagline for the movie\n",
    "* **homepage**: A URL for the homepage of the movie (may no longer exist)\n",
    "* **release_date**: The release date of the movie as dd/mm/yyyy\n",
    "* **genre**: A category indicating the main genre of the movie\n",
    "* **budget**: The budget of the movie in US dollars\n",
    "* **keywords**: A list of keywords describing the movie\n",
    "* **original_language** The original language of the movie (as a two letter abbreviation, e.g. en for English)\n",
    "* **revenue**: The revenue earned by the movie in US dollars\n",
    "* **runtime**: The runtime of the movie in minutes\n",
    "* **status**: The status of the movie (one of *Released*, *Rumored*, or *Post Production*)\n",
    "* **vote_average**: The average rating for the movie (from 0 to 10)\n",
    "* **vote_count**: The number of ratings that have been provided for the movie\n",
    "* **director**: The director of the movie\n",
    "       \n",
    "Each row within **casts.csv** contains the id of a movie and the name of an actor in that move. This file uses the following fields:\n",
    "\n",
    "* **id**: The id of the movie\n",
    "* **billing**: The billing of the actor (one of *cast_0*, *cast_1*, *cast_2*, or *cast_3*)\n",
    "* **actor**: The name of the actor\n",
    "\n",
    "Load the two datasets (**movies.csv** and **casts.csv**) into pandas data frames: **movies** and **casts**. Display the first five rows from each."
   ]
  },
  {
   "cell_type": "code",
   "execution_count": null,
   "metadata": {},
   "outputs": [],
   "source": [
    "# Write code here\n"
   ]
  },
  {
   "cell_type": "markdown",
   "metadata": {},
   "source": [
    "### Question 2: Tidy"
   ]
  },
  {
   "cell_type": "markdown",
   "metadata": {},
   "source": [
    "Define a function to extract the month part from a date given as dd/mm/yyyy."
   ]
  },
  {
   "cell_type": "code",
   "execution_count": null,
   "metadata": {},
   "outputs": [],
   "source": [
    "def date_to_month(d):\n",
    "    if(type(d) != str):\n",
    "        return np.NaN\n",
    "    else:\n",
    "        date_parts = d.split('/')\n",
    "        month = date_parts[1]\n",
    "        return int(month)"
   ]
  },
  {
   "cell_type": "markdown",
   "metadata": {},
   "source": [
    "Extract months from the release date for each movie to add a new column **release_month**. The pandas Series **apply** function used together with the **date_to_month** function defined above can be used for this."
   ]
  },
  {
   "cell_type": "code",
   "execution_count": null,
   "metadata": {},
   "outputs": [],
   "source": [
    "movies['release_month'] = movies[\"release_date\"].apply(date_to_month)\n",
    "movies.head()"
   ]
  },
  {
   "cell_type": "markdown",
   "metadata": {},
   "source": [
    "**a)** Define a function to extract the year part from a date given as dd/mm/yyyy."
   ]
  },
  {
   "cell_type": "code",
   "execution_count": null,
   "metadata": {},
   "outputs": [],
   "source": [
    "def date_to_year(d):\n",
    "    \n",
    "    # Write code here\n"
   ]
  },
  {
   "cell_type": "markdown",
   "metadata": {},
   "source": [
    "**b)** Extract the year from the release date for each movie to add a new column **release_year**. The pandas Series **apply** function used together with the **date_to_year** function defined above can be used for this."
   ]
  },
  {
   "cell_type": "code",
   "execution_count": null,
   "metadata": {},
   "outputs": [],
   "source": [
    "# Write code here\n"
   ]
  },
  {
   "cell_type": "markdown",
   "metadata": {},
   "source": [
    "### Question 3: Simple Analysis\n",
    "\n",
    "Use simple data analysis to answer the following questions. "
   ]
  },
  {
   "cell_type": "markdown",
   "metadata": {},
   "source": [
    "**a)** How many directors have released movies included in the dataset?"
   ]
  },
  {
   "cell_type": "code",
   "execution_count": null,
   "metadata": {},
   "outputs": [],
   "source": [
    "# Write code here\n"
   ]
  },
  {
   "cell_type": "markdown",
   "metadata": {},
   "source": [
    "**b)** Generate and print a table showing many times movies have been released in each *genre*?"
   ]
  },
  {
   "cell_type": "code",
   "execution_count": null,
   "metadata": {},
   "outputs": [],
   "source": [
    "# Write code here\n"
   ]
  },
  {
   "cell_type": "markdown",
   "metadata": {},
   "source": [
    "**c)** How many movies have been released under the *Horror* genre?"
   ]
  },
  {
   "cell_type": "code",
   "execution_count": null,
   "metadata": {
    "scrolled": true
   },
   "outputs": [],
   "source": [
    "# Write code here\n"
   ]
  },
  {
   "cell_type": "markdown",
   "metadata": {},
   "source": [
    "**d)** In which month are movies most frequently relased?"
   ]
  },
  {
   "cell_type": "code",
   "execution_count": null,
   "metadata": {},
   "outputs": [],
   "source": [
    "# Write code here\n"
   ]
  },
  {
   "cell_type": "markdown",
   "metadata": {},
   "source": [
    "**e)** Who are the ten most prolific *directors* in the dataset? (We define *prolific* as the directors who have released the most movies)."
   ]
  },
  {
   "cell_type": "code",
   "execution_count": null,
   "metadata": {},
   "outputs": [],
   "source": [
    "# Write code here\n"
   ]
  },
  {
   "cell_type": "markdown",
   "metadata": {
    "collapsed": true
   },
   "source": [
    "### Question 4: Deeper Analysis\n",
    "\n",
    "Use slightly more advanced data analysis to answer the following questions."
   ]
  },
  {
   "cell_type": "markdown",
   "metadata": {},
   "source": [
    "**a)** Draw an appropriate data visualisation that shows the number of movies released each year?"
   ]
  },
  {
   "cell_type": "code",
   "execution_count": null,
   "metadata": {},
   "outputs": [],
   "source": [
    "# Write code here\n"
   ]
  },
  {
   "cell_type": "markdown",
   "metadata": {},
   "source": [
    "**b)** What is the average duration of a movie (in minutes)?"
   ]
  },
  {
   "cell_type": "code",
   "execution_count": null,
   "metadata": {},
   "outputs": [],
   "source": [
    "# Write code here\n"
   ]
  },
  {
   "cell_type": "markdown",
   "metadata": {},
   "source": [
    "**c)** How many times has there been a movie described with the keyword '*spoof*'?\n",
    "\n",
    "**Hint:** Experiment with the *str.contains* method from *pandas.Series*."
   ]
  },
  {
   "cell_type": "code",
   "execution_count": null,
   "metadata": {},
   "outputs": [],
   "source": [
    "# Write code here\n"
   ]
  },
  {
   "cell_type": "markdown",
   "metadata": {},
   "source": [
    "**d)** Which actor has starred in the most movies in the dataset? "
   ]
  },
  {
   "cell_type": "code",
   "execution_count": null,
   "metadata": {},
   "outputs": [],
   "source": [
    "# Write code here\n"
   ]
  },
  {
   "cell_type": "markdown",
   "metadata": {},
   "source": [
    "**e)** Have movies by *Steven Spielberg* had higher revenues, on average, than movies by *Ridley Scott*?\n",
    "\n",
    "**Bonus:** Can you plot a data visualisation to support this conclusion?"
   ]
  },
  {
   "cell_type": "code",
   "execution_count": null,
   "metadata": {},
   "outputs": [],
   "source": [
    "# Write code here\n"
   ]
  },
  {
   "cell_type": "markdown",
   "metadata": {},
   "source": [
    "**f)** Which director has earned the highest cumulative revenue for movies in the dataset released in the year 2000 or later?"
   ]
  },
  {
   "cell_type": "code",
   "execution_count": null,
   "metadata": {},
   "outputs": [],
   "source": [
    "# Write code here\n"
   ]
  },
  {
   "cell_type": "markdown",
   "metadata": {},
   "source": [
    "### Question 5: Merging Data\n",
    "\n",
    "Answer questions that require merging the **movies** and **casts** datsets."
   ]
  },
  {
   "cell_type": "markdown",
   "metadata": {},
   "source": [
    "**a)** Which actor starred in the most movies in the year 2002?"
   ]
  },
  {
   "cell_type": "code",
   "execution_count": null,
   "metadata": {},
   "outputs": [],
   "source": [
    "# Write code here\n"
   ]
  },
  {
   "cell_type": "markdown",
   "metadata": {},
   "source": [
    "**b)** Have movies in the dataset starring '*Will Smith*' earned more cumulative revenue than movies starring '*Chris Rock*', or vice versa? "
   ]
  },
  {
   "cell_type": "code",
   "execution_count": null,
   "metadata": {},
   "outputs": [],
   "source": [
    "# Write code here\n"
   ]
  }
 ],
 "metadata": {
  "kernelspec": {
   "display_name": "Python 3",
   "language": "python",
   "name": "python3"
  },
  "language_info": {
   "codemirror_mode": {
    "name": "ipython",
    "version": 3
   },
   "file_extension": ".py",
   "mimetype": "text/x-python",
   "name": "python",
   "nbconvert_exporter": "python",
   "pygments_lexer": "ipython3",
   "version": "3.8.8"
  },
  "toc": {
   "base_numbering": 1,
   "nav_menu": {},
   "number_sections": false,
   "sideBar": true,
   "skip_h1_title": true,
   "title_cell": "Table of Contents",
   "title_sidebar": "Contents",
   "toc_cell": false,
   "toc_position": {},
   "toc_section_display": true,
   "toc_window_display": true
  }
 },
 "nbformat": 4,
 "nbformat_minor": 1
}
