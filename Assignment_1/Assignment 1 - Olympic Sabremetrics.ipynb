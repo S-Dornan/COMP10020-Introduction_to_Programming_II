{
 "cells": [
  {
   "cell_type": "markdown",
   "metadata": {},
   "source": [
    "# COMP 10020 Introduction to Programming 2 \n",
    "## Assignment 1 - Olympic Sabremetrics"
   ]
  },
  {
   "cell_type": "markdown",
   "metadata": {},
   "source": [
    "In this lab you will be tasked with exercising your key Python programming skills. The **120 Years of Olympic History** dataset (https://www.kaggle.com/heesoo37/120-years-of-olympic-history-athletes-and-results) contains details of evry olympic appearance (Summer & Winter) from Athens 1896 to Rio 2016. We will use a reduced version of this dataset containing details of games since 1960. The following code block reads data from a data file (*'athlete_events_since_1960.csv'*) and stores  this in a list of dictionary objects, each of which contains the details of a athlete appearance. The details stored about each athlete appearanace are stored in a dictionary object with the following keys:\n",
    "\n",
    "* **ID**: A unique numeric ID for each athlete (an athlete appearing at multiple games will always use the same ID)\n",
    "* **Name**:\tThe name of the athlete\n",
    "* **Sex**: The sex of the athlete (in olympic games only female (F) and male (M) are recorded\n",
    "* **Age**: The age of the athlete at the time of the appearance\n",
    "* **Height**: The athlete's height (cm) at the time of the competition\n",
    "* **Weight**: The athlete's weight (kg) at the time of the competition\n",
    "* **Team**: The team the athlete was representing (this is usually a country but in some events at earlier olympics it can be somthing else, for example the boat that an athlete was part of the cre for). \n",
    "* **NOC**: The National Olympic Committee 3-letter code\tof the country the athlete was competing for\n",
    "* **Games**: The games the appearance took place in\n",
    "* **Year**: The year of the appearance\t\n",
    "* **Season**: Whether this apperance was part of *Winter* or *Summer* games\n",
    "* **City**: The city the games took place in\n",
    "* **Sport**: The sport that athlete apperaed in\t\n",
    "* **Event**: The event the athlete took part in\n",
    "* **Medal**: What medal (if any) the athlete won in this event."
   ]
  },
  {
   "cell_type": "code",
   "execution_count": null,
   "metadata": {},
   "outputs": [],
   "source": [
    "athlete_appearances = list()\n",
    "count = 0\n",
    "with open('athlete_events_since_1960.csv') as f:\n",
    "    for line in f:\n",
    "        words = line.strip().split(',')\n",
    "        athlete_appearance = {\"ID\":int(words[0]),\"Name\":words[1],\"Sex\":words[2], \"Age\":int(words[3]),\"Height\":float(words[4]),\"Weight\":float(words[5]),\"Team\":words[6],\"NOC\":words[7],\"Games\":words[8],\"Year\":int(words[9]),\"Season\":words[10],\"City\":words[11],\"Sport\":words[12],\"Event\":words[13],\"Medal\":words[14]}\n",
    "        athlete_appearances.append(athlete_appearance)\n",
    "        count = count + 1\n",
    "    \n",
    "print(\"{} athlete appearances loaded\".format(count))"
   ]
  },
  {
   "cell_type": "markdown",
   "metadata": {},
   "source": [
    "The details of a specific appearance are accessed by first selecting an element from the **athlete_appearances** list and then accessing specific pieces of data about that appearance from the dictionary. For example, the athlete's name, year, games, sport, and event of the first appearance for the first apperanace in the list could be accessed as follows:"
   ]
  },
  {
   "cell_type": "code",
   "execution_count": null,
   "metadata": {},
   "outputs": [],
   "source": [
    "athlete_appearances[0][\"Name\"]"
   ]
  },
  {
   "cell_type": "code",
   "execution_count": null,
   "metadata": {
    "scrolled": true
   },
   "outputs": [],
   "source": [
    "athlete_appearances[0][\"Year\"]"
   ]
  },
  {
   "cell_type": "code",
   "execution_count": null,
   "metadata": {},
   "outputs": [],
   "source": [
    "athlete_appearances[0][\"Games\"]"
   ]
  },
  {
   "cell_type": "code",
   "execution_count": null,
   "metadata": {},
   "outputs": [],
   "source": [
    "athlete_appearances[0][\"Sport\"]"
   ]
  },
  {
   "cell_type": "code",
   "execution_count": null,
   "metadata": {},
   "outputs": [],
   "source": [
    "athlete_appearances[0][\"Event\"]"
   ]
  },
  {
   "cell_type": "markdown",
   "metadata": {},
   "source": [
    "The task in this assignment is to answer the question below using simple Python code. For each question write code to determine the answer and to print this answer out to the notebook. \n",
    "\n",
    "**DO NOT** just look at the data to work out the anser and print this out!\n",
    "\n",
    "**DO NOT** use advanced packages (e.g. pandas or numpy) for these tasks, write the code yourself. If you are unsure if something can be used as the demosntrators/TA."
   ]
  },
  {
   "cell_type": "markdown",
   "metadata": {},
   "source": [
    "To make things easier for some questions this code block loads a lookup table of National Olympic Committee 3-letter code (https://en.wikipedia.org/wiki/List_of_IOC_country_codes) to country names. "
   ]
  },
  {
   "cell_type": "code",
   "execution_count": null,
   "metadata": {},
   "outputs": [],
   "source": [
    "NOC_country_lookup = dict()\n",
    "\n",
    "with open('noc_regions.csv') as f:\n",
    "    for line in f:\n",
    "        words = line.strip().split(',')\n",
    "        NOC_country_lookup[words[0]] = words[1]\n",
    "        \n",
    "print(\"{} codes loaded\".format(len(NOC_country_lookup)))    "
   ]
  },
  {
   "cell_type": "markdown",
   "metadata": {},
   "source": [
    "We can lookup a country name as shown below."
   ]
  },
  {
   "cell_type": "code",
   "execution_count": null,
   "metadata": {},
   "outputs": [],
   "source": [
    "NOC_country_lookup['IRL']"
   ]
  },
  {
   "cell_type": "code",
   "execution_count": null,
   "metadata": {},
   "outputs": [],
   "source": [
    "NOC_country_lookup['CAN']"
   ]
  },
  {
   "cell_type": "markdown",
   "metadata": {},
   "source": [
    "### Question 1"
   ]
  },
  {
   "cell_type": "markdown",
   "metadata": {},
   "source": [
    "Who is the oldest athlete to ever appear at an olympic games?"
   ]
  },
  {
   "cell_type": "code",
   "execution_count": null,
   "metadata": {},
   "outputs": [],
   "source": [
    "# Write code to determine and print the answer here.\n"
   ]
  },
  {
   "cell_type": "markdown",
   "metadata": {},
   "source": [
    "### Question 2"
   ]
  },
  {
   "cell_type": "markdown",
   "metadata": {},
   "source": [
    "Who was the oldest athlete to win a medal at an olympic games?"
   ]
  },
  {
   "cell_type": "code",
   "execution_count": null,
   "metadata": {},
   "outputs": [],
   "source": [
    "# Write code to determine and print the answer here.\n"
   ]
  },
  {
   "cell_type": "markdown",
   "metadata": {},
   "source": [
    "### Question 3"
   ]
  },
  {
   "cell_type": "markdown",
   "metadata": {},
   "source": [
    "How many times has an athlete represented **Ireland** (**IRL**) in an event at the olympics?"
   ]
  },
  {
   "cell_type": "code",
   "execution_count": null,
   "metadata": {},
   "outputs": [],
   "source": [
    "# Write code to determine and print the answer here.\n"
   ]
  },
  {
   "cell_type": "markdown",
   "metadata": {},
   "source": [
    "### Question 4"
   ]
  },
  {
   "cell_type": "markdown",
   "metadata": {},
   "source": [
    "How many athletes have represented **Ireland** (**IRL**) at an olympic games?"
   ]
  },
  {
   "cell_type": "code",
   "execution_count": null,
   "metadata": {},
   "outputs": [],
   "source": [
    "# Write code to determine and print the answer here.\n"
   ]
  },
  {
   "cell_type": "markdown",
   "metadata": {},
   "source": [
    "### Question 5"
   ]
  },
  {
   "cell_type": "markdown",
   "metadata": {},
   "source": [
    "From which country have athletes appeared in olympic events the **most** times? "
   ]
  },
  {
   "cell_type": "code",
   "execution_count": null,
   "metadata": {},
   "outputs": [],
   "source": [
    "# Write code to determine and print the answer here.\n"
   ]
  },
  {
   "cell_type": "markdown",
   "metadata": {},
   "source": [
    "### Question 6"
   ]
  },
  {
   "cell_type": "markdown",
   "metadata": {},
   "source": [
    "Which olympian has made the most appearances in events at olympic games?"
   ]
  },
  {
   "cell_type": "code",
   "execution_count": null,
   "metadata": {},
   "outputs": [],
   "source": [
    "# Write code to determine and print the answer here.\n"
   ]
  },
  {
   "cell_type": "markdown",
   "metadata": {
    "collapsed": true
   },
   "source": [
    "### Question 7"
   ]
  },
  {
   "cell_type": "markdown",
   "metadata": {},
   "source": [
    "Which olympian has won the most medals at olympic games?"
   ]
  },
  {
   "cell_type": "code",
   "execution_count": null,
   "metadata": {
    "scrolled": true
   },
   "outputs": [],
   "source": [
    "# Write code to determine and print the answer here.\n"
   ]
  },
  {
   "cell_type": "markdown",
   "metadata": {
    "collapsed": true
   },
   "source": [
    "### Question 8"
   ]
  },
  {
   "cell_type": "markdown",
   "metadata": {},
   "source": [
    "In which sport have **Ireland** (**IRL**) won most medals? "
   ]
  },
  {
   "cell_type": "code",
   "execution_count": null,
   "metadata": {},
   "outputs": [],
   "source": [
    "# Write code to determine and print the answer here.\n"
   ]
  },
  {
   "cell_type": "markdown",
   "metadata": {},
   "source": [
    "### Question 9"
   ]
  },
  {
   "cell_type": "markdown",
   "metadata": {},
   "source": [
    "Is the average height of an athlete appearing in *basketball* greater than or less than the average height of an athlete appearing in *football*?"
   ]
  },
  {
   "cell_type": "code",
   "execution_count": null,
   "metadata": {},
   "outputs": [],
   "source": [
    "# Write code to determine and print the answer here.\n"
   ]
  },
  {
   "cell_type": "markdown",
   "metadata": {},
   "source": [
    "### Question 10"
   ]
  },
  {
   "cell_type": "markdown",
   "metadata": {},
   "source": [
    "Which athlete has made most olympic appearances without ever winning a Gold medal?\n",
    "\n",
    "Note: the command **del d[key]** which deletes the entry associated with *key* from dictioanry *d* might be useful."
   ]
  },
  {
   "cell_type": "code",
   "execution_count": null,
   "metadata": {},
   "outputs": [],
   "source": [
    "# Write code to determine and print the answer here.\n"
   ]
  }
 ],
 "metadata": {
  "anaconda-cloud": {},
  "kernelspec": {
   "display_name": "Python 3",
   "language": "python",
   "name": "python3"
  },
  "language_info": {
   "codemirror_mode": {
    "name": "ipython",
    "version": 3
   },
   "file_extension": ".py",
   "mimetype": "text/x-python",
   "name": "python",
   "nbconvert_exporter": "python",
   "pygments_lexer": "ipython3",
   "version": "3.8.8"
  },
  "toc": {
   "base_numbering": 1,
   "nav_menu": {},
   "number_sections": false,
   "sideBar": true,
   "skip_h1_title": true,
   "title_cell": "Table of Contents",
   "title_sidebar": "Contents",
   "toc_cell": false,
   "toc_position": {},
   "toc_section_display": true,
   "toc_window_display": true
  }
 },
 "nbformat": 4,
 "nbformat_minor": 1
}
